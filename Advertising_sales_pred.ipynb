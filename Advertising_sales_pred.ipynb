{
 "cells": [
  {
   "cell_type": "markdown",
   "id": "dbd3b211",
   "metadata": {},
   "source": [
    "### About Dataset:\n",
    "The advertising dataset captures the sales revenue generated with respect to advertisement costs across multiple channels like radio, tv, and newspapers. It is required to understand the impact of advertising budgets on the overall sales.\n",
    "\n",
    "### Objective:\n",
    "* Understand the Dataset & cleanup (if required).\n",
    "* Build Regression models to predict the sales w.r.t a single & multiple features.\n",
    "* Also evaluate the models & compare their respective scores."
   ]
  },
  {
   "cell_type": "code",
   "execution_count": 1,
   "id": "973778e4",
   "metadata": {},
   "outputs": [],
   "source": [
    "import warnings\n",
    "warnings.filterwarnings('ignore')"
   ]
  },
  {
   "cell_type": "code",
   "execution_count": 2,
   "id": "8dc07054",
   "metadata": {},
   "outputs": [],
   "source": [
    "#importing liabries\n",
    "import numpy as np\n",
    "import pandas as pd\n",
    "import matplotlib.pyplot as plt\n",
    "import seaborn as sns"
   ]
  },
  {
   "cell_type": "code",
   "execution_count": 3,
   "id": "c7e9dcf0",
   "metadata": {},
   "outputs": [
    {
     "data": {
      "text/html": [
       "<div>\n",
       "<style scoped>\n",
       "    .dataframe tbody tr th:only-of-type {\n",
       "        vertical-align: middle;\n",
       "    }\n",
       "\n",
       "    .dataframe tbody tr th {\n",
       "        vertical-align: top;\n",
       "    }\n",
       "\n",
       "    .dataframe thead th {\n",
       "        text-align: right;\n",
       "    }\n",
       "</style>\n",
       "<table border=\"1\" class=\"dataframe\">\n",
       "  <thead>\n",
       "    <tr style=\"text-align: right;\">\n",
       "      <th></th>\n",
       "      <th>TV</th>\n",
       "      <th>Radio</th>\n",
       "      <th>Newspaper</th>\n",
       "      <th>Sales</th>\n",
       "    </tr>\n",
       "  </thead>\n",
       "  <tbody>\n",
       "    <tr>\n",
       "      <th>0</th>\n",
       "      <td>230.1</td>\n",
       "      <td>37.8</td>\n",
       "      <td>69.2</td>\n",
       "      <td>22.1</td>\n",
       "    </tr>\n",
       "    <tr>\n",
       "      <th>1</th>\n",
       "      <td>44.5</td>\n",
       "      <td>39.3</td>\n",
       "      <td>45.1</td>\n",
       "      <td>10.4</td>\n",
       "    </tr>\n",
       "    <tr>\n",
       "      <th>2</th>\n",
       "      <td>17.2</td>\n",
       "      <td>45.9</td>\n",
       "      <td>69.3</td>\n",
       "      <td>12.0</td>\n",
       "    </tr>\n",
       "    <tr>\n",
       "      <th>3</th>\n",
       "      <td>151.5</td>\n",
       "      <td>41.3</td>\n",
       "      <td>58.5</td>\n",
       "      <td>16.5</td>\n",
       "    </tr>\n",
       "    <tr>\n",
       "      <th>4</th>\n",
       "      <td>180.8</td>\n",
       "      <td>10.8</td>\n",
       "      <td>58.4</td>\n",
       "      <td>17.9</td>\n",
       "    </tr>\n",
       "  </tbody>\n",
       "</table>\n",
       "</div>"
      ],
      "text/plain": [
       "      TV  Radio  Newspaper  Sales\n",
       "0  230.1   37.8       69.2   22.1\n",
       "1   44.5   39.3       45.1   10.4\n",
       "2   17.2   45.9       69.3   12.0\n",
       "3  151.5   41.3       58.5   16.5\n",
       "4  180.8   10.8       58.4   17.9"
      ]
     },
     "execution_count": 3,
     "metadata": {},
     "output_type": "execute_result"
    }
   ],
   "source": [
    "f=pd.read_csv('advertising.csv')\n",
    "f.head()"
   ]
  },
  {
   "cell_type": "code",
   "execution_count": 4,
   "id": "1bc662aa",
   "metadata": {},
   "outputs": [
    {
     "data": {
      "text/plain": [
       "(200, 4)"
      ]
     },
     "execution_count": 4,
     "metadata": {},
     "output_type": "execute_result"
    }
   ],
   "source": [
    "# no. of rows and coloumns\n",
    "f.shape"
   ]
  },
  {
   "cell_type": "code",
   "execution_count": 5,
   "id": "408b915d",
   "metadata": {},
   "outputs": [
    {
     "data": {
      "text/plain": [
       "TV           0\n",
       "Radio        0\n",
       "Newspaper    0\n",
       "Sales        0\n",
       "dtype: int64"
      ]
     },
     "execution_count": 5,
     "metadata": {},
     "output_type": "execute_result"
    }
   ],
   "source": [
    "# checking for null values\n",
    "f.isnull().sum()"
   ]
  },
  {
   "cell_type": "markdown",
   "id": "2813fc06",
   "metadata": {},
   "source": [
    "**There are no null or missing values in data set**"
   ]
  },
  {
   "cell_type": "code",
   "execution_count": 6,
   "id": "a4532107",
   "metadata": {},
   "outputs": [
    {
     "data": {
      "text/html": [
       "<div>\n",
       "<style scoped>\n",
       "    .dataframe tbody tr th:only-of-type {\n",
       "        vertical-align: middle;\n",
       "    }\n",
       "\n",
       "    .dataframe tbody tr th {\n",
       "        vertical-align: top;\n",
       "    }\n",
       "\n",
       "    .dataframe thead th {\n",
       "        text-align: right;\n",
       "    }\n",
       "</style>\n",
       "<table border=\"1\" class=\"dataframe\">\n",
       "  <thead>\n",
       "    <tr style=\"text-align: right;\">\n",
       "      <th></th>\n",
       "      <th>TV</th>\n",
       "      <th>Radio</th>\n",
       "      <th>Newspaper</th>\n",
       "      <th>Sales</th>\n",
       "    </tr>\n",
       "  </thead>\n",
       "  <tbody>\n",
       "    <tr>\n",
       "      <th>count</th>\n",
       "      <td>200.000000</td>\n",
       "      <td>200.000000</td>\n",
       "      <td>200.000000</td>\n",
       "      <td>200.000000</td>\n",
       "    </tr>\n",
       "    <tr>\n",
       "      <th>mean</th>\n",
       "      <td>147.042500</td>\n",
       "      <td>23.264000</td>\n",
       "      <td>30.554000</td>\n",
       "      <td>15.130500</td>\n",
       "    </tr>\n",
       "    <tr>\n",
       "      <th>std</th>\n",
       "      <td>85.854236</td>\n",
       "      <td>14.846809</td>\n",
       "      <td>21.778621</td>\n",
       "      <td>5.283892</td>\n",
       "    </tr>\n",
       "    <tr>\n",
       "      <th>min</th>\n",
       "      <td>0.700000</td>\n",
       "      <td>0.000000</td>\n",
       "      <td>0.300000</td>\n",
       "      <td>1.600000</td>\n",
       "    </tr>\n",
       "    <tr>\n",
       "      <th>25%</th>\n",
       "      <td>74.375000</td>\n",
       "      <td>9.975000</td>\n",
       "      <td>12.750000</td>\n",
       "      <td>11.000000</td>\n",
       "    </tr>\n",
       "    <tr>\n",
       "      <th>50%</th>\n",
       "      <td>149.750000</td>\n",
       "      <td>22.900000</td>\n",
       "      <td>25.750000</td>\n",
       "      <td>16.000000</td>\n",
       "    </tr>\n",
       "    <tr>\n",
       "      <th>75%</th>\n",
       "      <td>218.825000</td>\n",
       "      <td>36.525000</td>\n",
       "      <td>45.100000</td>\n",
       "      <td>19.050000</td>\n",
       "    </tr>\n",
       "    <tr>\n",
       "      <th>max</th>\n",
       "      <td>296.400000</td>\n",
       "      <td>49.600000</td>\n",
       "      <td>114.000000</td>\n",
       "      <td>27.000000</td>\n",
       "    </tr>\n",
       "  </tbody>\n",
       "</table>\n",
       "</div>"
      ],
      "text/plain": [
       "               TV       Radio   Newspaper       Sales\n",
       "count  200.000000  200.000000  200.000000  200.000000\n",
       "mean   147.042500   23.264000   30.554000   15.130500\n",
       "std     85.854236   14.846809   21.778621    5.283892\n",
       "min      0.700000    0.000000    0.300000    1.600000\n",
       "25%     74.375000    9.975000   12.750000   11.000000\n",
       "50%    149.750000   22.900000   25.750000   16.000000\n",
       "75%    218.825000   36.525000   45.100000   19.050000\n",
       "max    296.400000   49.600000  114.000000   27.000000"
      ]
     },
     "execution_count": 6,
     "metadata": {},
     "output_type": "execute_result"
    }
   ],
   "source": [
    "# checking for the stats\n",
    "f.describe()"
   ]
  },
  {
   "cell_type": "markdown",
   "id": "08d1bece",
   "metadata": {},
   "source": [
    "### Data Standardization"
   ]
  },
  {
   "cell_type": "code",
   "execution_count": 7,
   "id": "bc7b07e0",
   "metadata": {},
   "outputs": [
    {
     "data": {
      "text/plain": [
       "Index(['TV', 'Radio', 'Newspaper'], dtype='object')"
      ]
     },
     "execution_count": 7,
     "metadata": {},
     "output_type": "execute_result"
    }
   ],
   "source": [
    "f.columns[:-1]"
   ]
  },
  {
   "cell_type": "code",
   "execution_count": 8,
   "id": "ebf2f0aa",
   "metadata": {},
   "outputs": [],
   "source": [
    "from sklearn.preprocessing import MinMaxScaler\n",
    "for col in f.columns[:-1]:\n",
    "    mms=MinMaxScaler()\n",
    "    f[col]=mms.fit_transform(f[[col]])"
   ]
  },
  {
   "cell_type": "code",
   "execution_count": 9,
   "id": "0c2b8b4b",
   "metadata": {},
   "outputs": [
    {
     "data": {
      "text/html": [
       "<div>\n",
       "<style scoped>\n",
       "    .dataframe tbody tr th:only-of-type {\n",
       "        vertical-align: middle;\n",
       "    }\n",
       "\n",
       "    .dataframe tbody tr th {\n",
       "        vertical-align: top;\n",
       "    }\n",
       "\n",
       "    .dataframe thead th {\n",
       "        text-align: right;\n",
       "    }\n",
       "</style>\n",
       "<table border=\"1\" class=\"dataframe\">\n",
       "  <thead>\n",
       "    <tr style=\"text-align: right;\">\n",
       "      <th></th>\n",
       "      <th>TV</th>\n",
       "      <th>Radio</th>\n",
       "      <th>Newspaper</th>\n",
       "      <th>Sales</th>\n",
       "    </tr>\n",
       "  </thead>\n",
       "  <tbody>\n",
       "    <tr>\n",
       "      <th>0</th>\n",
       "      <td>0.775786</td>\n",
       "      <td>0.762097</td>\n",
       "      <td>0.605981</td>\n",
       "      <td>22.1</td>\n",
       "    </tr>\n",
       "    <tr>\n",
       "      <th>1</th>\n",
       "      <td>0.148123</td>\n",
       "      <td>0.792339</td>\n",
       "      <td>0.394019</td>\n",
       "      <td>10.4</td>\n",
       "    </tr>\n",
       "    <tr>\n",
       "      <th>2</th>\n",
       "      <td>0.055800</td>\n",
       "      <td>0.925403</td>\n",
       "      <td>0.606860</td>\n",
       "      <td>12.0</td>\n",
       "    </tr>\n",
       "    <tr>\n",
       "      <th>3</th>\n",
       "      <td>0.509976</td>\n",
       "      <td>0.832661</td>\n",
       "      <td>0.511873</td>\n",
       "      <td>16.5</td>\n",
       "    </tr>\n",
       "    <tr>\n",
       "      <th>4</th>\n",
       "      <td>0.609063</td>\n",
       "      <td>0.217742</td>\n",
       "      <td>0.510994</td>\n",
       "      <td>17.9</td>\n",
       "    </tr>\n",
       "  </tbody>\n",
       "</table>\n",
       "</div>"
      ],
      "text/plain": [
       "         TV     Radio  Newspaper  Sales\n",
       "0  0.775786  0.762097   0.605981   22.1\n",
       "1  0.148123  0.792339   0.394019   10.4\n",
       "2  0.055800  0.925403   0.606860   12.0\n",
       "3  0.509976  0.832661   0.511873   16.5\n",
       "4  0.609063  0.217742   0.510994   17.9"
      ]
     },
     "execution_count": 9,
     "metadata": {},
     "output_type": "execute_result"
    }
   ],
   "source": [
    "f.head()"
   ]
  },
  {
   "cell_type": "markdown",
   "id": "a11a2001",
   "metadata": {},
   "source": [
    "### Data Visualization"
   ]
  },
  {
   "cell_type": "code",
   "execution_count": 10,
   "id": "a867d3a2",
   "metadata": {},
   "outputs": [
    {
     "data": {
      "image/png": "[encoded data removed]",
      "text/plain": [
       "<Figure size 432x432 with 20 Axes>"
      ]
     },
     "metadata": {
      "needs_background": "light"
     },
     "output_type": "display_data"
    }
   ],
   "source": [
    "sns.pairplot(f,height=1.5);"
   ]
  },
  {
   "cell_type": "markdown",
   "id": "663dbc60",
   "metadata": {},
   "source": [
    "**Here, TV & Salaes have linear Relationship.**"
   ]
  },
  {
   "cell_type": "code",
   "execution_count": 11,
   "id": "2042826e",
   "metadata": {},
   "outputs": [
    {
     "data": {
      "image/png": "[encoded data removed]",
      "text/plain": [
       "<Figure size 432x288 with 1 Axes>"
      ]
     },
     "metadata": {
      "needs_background": "light"
     },
     "output_type": "display_data"
    }
   ],
   "source": [
    "plt.scatter(f['TV'],f['Sales'],marker='*');"
   ]
  },
  {
   "cell_type": "code",
   "execution_count": 15,
   "id": "7403755d",
   "metadata": {
    "scrolled": true
   },
   "outputs": [
    {
     "data": {
      "image/png": "[encoded data removed]",
      "text/plain": [
       "<Figure size 432x288 with 2 Axes>"
      ]
     },
     "metadata": {
      "needs_background": "light"
     },
     "output_type": "display_data"
    }
   ],
   "source": [
    "sns.heatmap(f.corr(),annot=True,linewidths=3,linecolor='r');"
   ]
  },
  {
   "cell_type": "markdown",
   "id": "27b36da0",
   "metadata": {},
   "source": [
    "**Conclusion:**TV is highly correlated with the sales i.e,with target column"
   ]
  },
  {
   "cell_type": "code",
   "execution_count": 16,
   "id": "8ce03d75",
   "metadata": {},
   "outputs": [
    {
     "data": {
      "image/png": "[encoded data removed]",
      "text/plain": [
       "<Figure size 432x288 with 1 Axes>"
      ]
     },
     "metadata": {
      "needs_background": "light"
     },
     "output_type": "display_data"
    },
    {
     "data": {
      "image/png": "[encoded data removed]",
      "text/plain": [
       "<Figure size 432x288 with 1 Axes>"
      ]
     },
     "metadata": {
      "needs_background": "light"
     },
     "output_type": "display_data"
    },
    {
     "data": {
      "image/png": "[encoded data removed]",
      "text/plain": [
       "<Figure size 432x288 with 1 Axes>"
      ]
     },
     "metadata": {
      "needs_background": "light"
     },
     "output_type": "display_data"
    },
    {
     "data": {
      "image/png": "[encoded data removed]",
      "text/plain": [
       "<Figure size 432x288 with 1 Axes>"
      ]
     },
     "metadata": {
      "needs_background": "light"
     },
     "output_type": "display_data"
    }
   ],
   "source": [
    "for col in f.columns:\n",
    "    sns.distplot(f[col]);\n",
    "    plt.show();"
   ]
  },
  {
   "cell_type": "markdown",
   "id": "24276c71",
   "metadata": {},
   "source": [
    "**Using distplot we found there are skewness in newspaper column**"
   ]
  },
  {
   "cell_type": "code",
   "execution_count": 17,
   "id": "b7973916",
   "metadata": {},
   "outputs": [
    {
     "name": "stdout",
     "output_type": "stream",
     "text": [
      "0.887995975308549\n"
     ]
    }
   ],
   "source": [
    "#Handling the skewness\n",
    "from scipy.stats import skew\n",
    "print(skew(f[\"Newspaper\"]))"
   ]
  },
  {
   "cell_type": "code",
   "execution_count": 18,
   "id": "f74ceacf",
   "metadata": {},
   "outputs": [
    {
     "name": "stdout",
     "output_type": "stream",
     "text": [
      "0.027808334516575314\n"
     ]
    }
   ],
   "source": [
    "#Removing skewness through square root method\n",
    "f[\"Newspaper\"]=np.sqrt(f[\"Newspaper\"])\n",
    "print(skew(f[\"Newspaper\"]))"
   ]
  },
  {
   "cell_type": "code",
   "execution_count": 21,
   "id": "5caa9870",
   "metadata": {},
   "outputs": [
    {
     "data": {
      "image/png": "[encoded data removed]",
      "text/plain": [
       "<Figure size 360x360 with 3 Axes>"
      ]
     },
     "metadata": {
      "needs_background": "light"
     },
     "output_type": "display_data"
    }
   ],
   "source": [
    "# Outlier Analysis by using a boxplot\n",
    "fig, axs = plt.subplots(3, figsize = (5,5))\n",
    "plt1 = sns.boxplot(f['TV'], ax = axs[0])\n",
    "plt2 = sns.boxplot(f['Newspaper'], ax = axs[1])\n",
    "plt3 = sns.boxplot(f['Radio'], ax = axs[2])\n",
    "plt.tight_layout()"
   ]
  },
  {
   "cell_type": "markdown",
   "id": "7008520b",
   "metadata": {},
   "source": [
    "**No outlier detected in the data**"
   ]
  },
  {
   "cell_type": "markdown",
   "id": "7d7fbbe5",
   "metadata": {},
   "source": [
    "## Simple Linear Regression"
   ]
  },
  {
   "cell_type": "code",
   "execution_count": 22,
   "id": "8df4ecd2",
   "metadata": {},
   "outputs": [],
   "source": [
    "from sklearn.linear_model import LinearRegression\n",
    "from sklearn.model_selection import train_test_split\n",
    "from sklearn.metrics import *"
   ]
  },
  {
   "cell_type": "code",
   "execution_count": 23,
   "id": "8d72ee56",
   "metadata": {},
   "outputs": [],
   "source": [
    "X=f['TV'].values.reshape(-1,1)\n",
    "y=f['Sales'].values"
   ]
  },
  {
   "cell_type": "code",
   "execution_count": 24,
   "id": "809c9b85",
   "metadata": {},
   "outputs": [
    {
     "data": {
      "text/plain": [
       "LinearRegression()"
      ]
     },
     "execution_count": 24,
     "metadata": {},
     "output_type": "execute_result"
    }
   ],
   "source": [
    "X_train,X_test,y_train,y_test=train_test_split(X,y,test_size=0.2,random_state=0)\n",
    "lr=LinearRegression()\n",
    "lr.fit(X_train,y_train)"
   ]
  },
  {
   "cell_type": "code",
   "execution_count": 25,
   "id": "696865bd",
   "metadata": {},
   "outputs": [],
   "source": [
    "y_test_pred=lr.predict(X_test)\n",
    "y_train_pred=lr.predict(X_train)"
   ]
  },
  {
   "cell_type": "code",
   "execution_count": 26,
   "id": "64304cce",
   "metadata": {},
   "outputs": [
    {
     "name": "stdout",
     "output_type": "stream",
     "text": [
      "train: 4.873755712925826\n",
      "test: 6.639091226559299\n"
     ]
    }
   ],
   "source": [
    "print(\"train:\",mean_squared_error(y_train,y_train_pred))\n",
    "print(\"test:\",mean_squared_error(y_test,y_test_pred))"
   ]
  },
  {
   "cell_type": "code",
   "execution_count": 27,
   "id": "d27e5a82",
   "metadata": {},
   "outputs": [
    {
     "data": {
      "text/plain": [
       "0.8134588121404831"
      ]
     },
     "execution_count": 27,
     "metadata": {},
     "output_type": "execute_result"
    }
   ],
   "source": [
    "r2_score(y_train,y_train_pred)"
   ]
  },
  {
   "cell_type": "code",
   "execution_count": 28,
   "id": "eac3bb76",
   "metadata": {},
   "outputs": [
    {
     "data": {
      "text/plain": [
       "0.8010943934328407"
      ]
     },
     "execution_count": 28,
     "metadata": {},
     "output_type": "execute_result"
    }
   ],
   "source": [
    "r2_score(y_test,y_test_pred)"
   ]
  },
  {
   "cell_type": "code",
   "execution_count": 29,
   "id": "0ab4f50e",
   "metadata": {},
   "outputs": [
    {
     "name": "stdout",
     "output_type": "stream",
     "text": [
      "[0.86565495 0.75970929 0.85335364 0.74095302 0.75023802]\n",
      "[0.84789429 0.77911444 0.74740588 0.57422736 0.80173726]\n",
      "\n",
      "acc_score_train : 0.7939817839456561\n",
      "acc_score_test : 0.750075846710554\n"
     ]
    }
   ],
   "source": [
    "#KFold for Linear\n",
    "import numpy as np\n",
    "from sklearn.model_selection import KFold\n",
    "from sklearn.model_selection import cross_val_score\n",
    "\n",
    "lr = LinearRegression()\n",
    "fold=KFold(n_splits=5,shuffle=True,random_state=0)\n",
    "score_train=cross_val_score(lr,X_train,y_train,cv=fold)\n",
    "score_test=cross_val_score(lr,X_test,y_test,cv=fold)\n",
    "\n",
    "print(score_train)\n",
    "print(score_test)\n",
    "print()\n",
    "acc_score_train=np.mean(abs(score_train))\n",
    "acc_score_test=np.mean(abs(score_test))\n",
    "\n",
    "print(\"acc_score_train :\",acc_score_train)\n",
    "print(\"acc_score_test :\",acc_score_test)"
   ]
  },
  {
   "cell_type": "code",
   "execution_count": 21,
   "id": "c637bf2e",
   "metadata": {},
   "outputs": [
    {
     "name": "stdout",
     "output_type": "stream",
     "text": [
      "lasso_train_score: 0.8087929236581252\n",
      "lasso_test_score: 0.7875115637255883\n"
     ]
    }
   ],
   "source": [
    "#Lasso Regulization\n",
    "from sklearn.linear_model import Lasso\n",
    "lso=Lasso(alpha=.1)\n",
    "lso.fit(X_train,y_train)\n",
    "print(\"lasso_train_score:\",lso.score(X_train,y_train))\n",
    "print(\"lasso_test_score:\",lso.score(X_test,y_test))"
   ]
  },
  {
   "cell_type": "code",
   "execution_count": 22,
   "id": "c5ec3e5b",
   "metadata": {},
   "outputs": [
    {
     "name": "stdout",
     "output_type": "stream",
     "text": [
      "Ridge_train_score: 0.8134123017942247\n",
      "Ridge_test_score: 0.8001062182141365\n"
     ]
    }
   ],
   "source": [
    "# Ridge Regulization\n",
    "from sklearn.linear_model import Ridge\n",
    "ridge=Ridge(alpha=0.1)\n",
    "ridge.fit(X_train,y_train)\n",
    "print(\"Ridge_train_score:\",ridge.score(X_train,y_train))\n",
    "print(\"Ridge_test_score:\",ridge.score(X_test,y_test))"
   ]
  },
  {
   "cell_type": "code",
   "execution_count": 23,
   "id": "0b5a9881",
   "metadata": {},
   "outputs": [
    {
     "name": "stdout",
     "output_type": "stream",
     "text": [
      "ENet_train_score: 0.681852156270061\n",
      "ENet_test_score: 0.6352223664450085\n"
     ]
    }
   ],
   "source": [
    "#ElasticNet Regularization\n",
    "from sklearn.linear_model import ElasticNet\n",
    "enet=ElasticNet(alpha=.1)\n",
    "enet.fit(X_train,y_train)\n",
    "print(\"ENet_train_score:\",enet.score(X_train,y_train))\n",
    "print(\"ENet_test_score:\",enet.score(X_test,y_test))"
   ]
  },
  {
   "cell_type": "code",
   "execution_count": 24,
   "id": "3b39f381",
   "metadata": {},
   "outputs": [
    {
     "name": "stdout",
     "output_type": "stream",
     "text": [
      "[0.86464109 0.75830331 0.85394926 0.74472998 0.74930216]\n",
      "[0.83312426 0.78263434 0.7362835  0.58774131 0.80728412]\n",
      "\n",
      "acc_score_train : 0.7941851586548635\n",
      "acc_score_test : 0.7494135055230574\n"
     ]
    }
   ],
   "source": [
    "#KFold for ridge\n",
    "import numpy as np\n",
    "from sklearn.model_selection import KFold\n",
    "from sklearn.model_selection import cross_val_score\n",
    "\n",
    "fold=KFold(n_splits=5,shuffle=True,random_state=0)\n",
    "score_train=cross_val_score(ridge,X_train,y_train,cv=fold)\n",
    "score_test=cross_val_score(ridge,X_test,y_test,cv=fold)\n",
    "\n",
    "print(score_train)\n",
    "print(score_test)\n",
    "print()\n",
    "acc_score_train=np.mean(abs(score_train))\n",
    "acc_score_test=np.mean(abs(score_test))\n",
    "\n",
    "print(\"acc_score_train :\",acc_score_train)\n",
    "print(\"acc_score_test :\",acc_score_test)"
   ]
  },
  {
   "cell_type": "markdown",
   "id": "4472b085",
   "metadata": {},
   "source": [
    "**In simplt linear Regression we are getting the r squared value 0.8010**\n",
    "\n",
    "**After regularization, for ridge we are getting 80.01% score**\n",
    "\n",
    "(Here for ridge by regulization technique we are getting the 74.94% score)"
   ]
  },
  {
   "cell_type": "code",
   "execution_count": 30,
   "id": "30c180f0",
   "metadata": {},
   "outputs": [
    {
     "data": {
      "text/html": [
       "<div>\n",
       "<style scoped>\n",
       "    .dataframe tbody tr th:only-of-type {\n",
       "        vertical-align: middle;\n",
       "    }\n",
       "\n",
       "    .dataframe tbody tr th {\n",
       "        vertical-align: top;\n",
       "    }\n",
       "\n",
       "    .dataframe thead th {\n",
       "        text-align: right;\n",
       "    }\n",
       "</style>\n",
       "<table border=\"1\" class=\"dataframe\">\n",
       "  <thead>\n",
       "    <tr style=\"text-align: right;\">\n",
       "      <th></th>\n",
       "      <th>Actual</th>\n",
       "      <th>Predicted</th>\n",
       "    </tr>\n",
       "  </thead>\n",
       "  <tbody>\n",
       "    <tr>\n",
       "      <th>0</th>\n",
       "      <td>11.3</td>\n",
       "      <td>10.929130</td>\n",
       "    </tr>\n",
       "    <tr>\n",
       "      <th>1</th>\n",
       "      <td>8.4</td>\n",
       "      <td>9.883991</td>\n",
       "    </tr>\n",
       "    <tr>\n",
       "      <th>2</th>\n",
       "      <td>12.0</td>\n",
       "      <td>12.083137</td>\n",
       "    </tr>\n",
       "    <tr>\n",
       "      <th>3</th>\n",
       "      <td>25.4</td>\n",
       "      <td>22.931893</td>\n",
       "    </tr>\n",
       "    <tr>\n",
       "      <th>4</th>\n",
       "      <td>16.7</td>\n",
       "      <td>16.426994</td>\n",
       "    </tr>\n",
       "  </tbody>\n",
       "</table>\n",
       "</div>"
      ],
      "text/plain": [
       "   Actual  Predicted\n",
       "0    11.3  10.929130\n",
       "1     8.4   9.883991\n",
       "2    12.0  12.083137\n",
       "3    25.4  22.931893\n",
       "4    16.7  16.426994"
      ]
     },
     "execution_count": 30,
     "metadata": {},
     "output_type": "execute_result"
    }
   ],
   "source": [
    "result=pd.DataFrame({'Actual':y_test,\"Predicted\":y_test_pred})\n",
    "result.head(5)"
   ]
  },
  {
   "cell_type": "markdown",
   "id": "e93ab3da",
   "metadata": {},
   "source": [
    "### multiple Linear regression"
   ]
  },
  {
   "cell_type": "code",
   "execution_count": 31,
   "id": "e5b91182",
   "metadata": {},
   "outputs": [],
   "source": [
    "from sklearn.linear_model import LinearRegression\n",
    "from sklearn.model_selection import train_test_split"
   ]
  },
  {
   "cell_type": "code",
   "execution_count": 32,
   "id": "72e1b36f",
   "metadata": {},
   "outputs": [],
   "source": [
    "X=f.iloc[:,:-1]\n",
    "y=f.iloc[:,3]"
   ]
  },
  {
   "cell_type": "code",
   "execution_count": 33,
   "id": "4e176383",
   "metadata": {},
   "outputs": [],
   "source": [
    "X_train,X_test,y_train,y_test=train_test_split(X,y,test_size=0.2,random_state=0)"
   ]
  },
  {
   "cell_type": "code",
   "execution_count": 34,
   "id": "01f5a880",
   "metadata": {},
   "outputs": [],
   "source": [
    "lrm=LinearRegression()"
   ]
  },
  {
   "cell_type": "code",
   "execution_count": 35,
   "id": "7c3a09be",
   "metadata": {},
   "outputs": [
    {
     "data": {
      "text/plain": [
       "LinearRegression()"
      ]
     },
     "execution_count": 35,
     "metadata": {},
     "output_type": "execute_result"
    }
   ],
   "source": [
    "lrm.fit(X_train,y_train)"
   ]
  },
  {
   "cell_type": "code",
   "execution_count": 36,
   "id": "e6b9ec84",
   "metadata": {},
   "outputs": [],
   "source": [
    "y_test_pred=lrm.predict(X_test)"
   ]
  },
  {
   "cell_type": "code",
   "execution_count": 37,
   "id": "2727a479",
   "metadata": {},
   "outputs": [],
   "source": [
    "y_train_pred=lrm.predict(X_train)"
   ]
  },
  {
   "cell_type": "code",
   "execution_count": 38,
   "id": "4cde7fa3",
   "metadata": {},
   "outputs": [
    {
     "name": "stdout",
     "output_type": "stream",
     "text": [
      "Mean Absolute Error: 1.4177692712438401\n",
      "Mean Square Error: 4.541071230476916\n",
      "Root Mean Square Error: 2.13097893712653\n"
     ]
    }
   ],
   "source": [
    "meanAbErr = mean_absolute_error(y_test, y_test_pred)\n",
    "meanSqErr = mean_squared_error(y_test, y_test_pred)\n",
    "rootMeanSqErr = np.sqrt(mean_squared_error(y_test, y_test_pred))\n",
    "\n",
    "print('Mean Absolute Error:', meanAbErr)\n",
    "print('Mean Square Error:', meanSqErr)\n",
    "print('Root Mean Square Error:', rootMeanSqErr)"
   ]
  },
  {
   "cell_type": "code",
   "execution_count": 39,
   "id": "9ded7d1d",
   "metadata": {},
   "outputs": [
    {
     "data": {
      "text/plain": [
       "0.9132318325322684"
      ]
     },
     "execution_count": 39,
     "metadata": {},
     "output_type": "execute_result"
    }
   ],
   "source": [
    "r2_score(y_train,y_train_pred)"
   ]
  },
  {
   "cell_type": "code",
   "execution_count": 40,
   "id": "0b7f54b6",
   "metadata": {},
   "outputs": [
    {
     "data": {
      "text/plain": [
       "0.8639505774601635"
      ]
     },
     "execution_count": 40,
     "metadata": {},
     "output_type": "execute_result"
    }
   ],
   "source": [
    "r2_score(y_test,y_test_pred)"
   ]
  },
  {
   "cell_type": "code",
   "execution_count": 41,
   "id": "6f3f743b",
   "metadata": {},
   "outputs": [
    {
     "data": {
      "image/png": "[encoded data removed]",
      "text/plain": [
       "<Figure size 432x288 with 1 Axes>"
      ]
     },
     "metadata": {
      "needs_background": "light"
     },
     "output_type": "display_data"
    }
   ],
   "source": [
    "sns.regplot(y_test,y_test_pred);\n",
    "plt.xlabel('y_test')\n",
    "plt.ylabel(\"y_test_pred\")\n",
    "plt.show();"
   ]
  },
  {
   "cell_type": "code",
   "execution_count": 42,
   "id": "2c25bc6e",
   "metadata": {},
   "outputs": [
    {
     "name": "stdout",
     "output_type": "stream",
     "text": [
      "[0.93976966 0.86990723 0.92257904 0.88004031 0.91443037]\n",
      "[0.97170463 0.90843225 0.68142222 0.67796623 0.89450875]\n",
      "\n",
      "acc_score_train : 0.9053453214431257\n",
      "acc_score_test : 0.8268068130245296\n"
     ]
    }
   ],
   "source": [
    "#KFold for multiple Linear\n",
    "import numpy as np\n",
    "from sklearn.model_selection import KFold\n",
    "from sklearn.model_selection import cross_val_score\n",
    "\n",
    "fold=KFold(n_splits=5,shuffle=True,random_state=0)\n",
    "score_train=cross_val_score(lrm,X_train,y_train,cv=fold)\n",
    "score_test=cross_val_score(lrm,X_test,y_test,cv=fold)\n",
    "\n",
    "print(score_train)\n",
    "print(score_test)\n",
    "print()\n",
    "acc_score_train=np.mean(abs(score_train))\n",
    "acc_score_test=np.mean(abs(score_test))\n",
    "\n",
    "print(\"acc_score_train :\",acc_score_train)\n",
    "print(\"acc_score_test :\",acc_score_test)"
   ]
  },
  {
   "cell_type": "markdown",
   "id": "a502926d",
   "metadata": {},
   "source": [
    "### Lasso Regularization"
   ]
  },
  {
   "cell_type": "code",
   "execution_count": 47,
   "id": "6f93f0db",
   "metadata": {},
   "outputs": [
    {
     "name": "stdout",
     "output_type": "stream",
     "text": [
      "lasso_train_score: 0.9043732885745822\n",
      "lasso_test_score: 0.8542676008845166\n"
     ]
    }
   ],
   "source": [
    "#Lasso Regulization\n",
    "from sklearn.linear_model import Lasso\n",
    "lso=Lasso(alpha=.1)\n",
    "lso.fit(X_train,y_train)\n",
    "print(\"lasso_train_score:\",lso.score(X_train,y_train))\n",
    "print(\"lasso_test_score:\",lso.score(X_test,y_test))"
   ]
  },
  {
   "cell_type": "markdown",
   "id": "6f55e79f",
   "metadata": {},
   "source": [
    "### Ridge Regularization"
   ]
  },
  {
   "cell_type": "code",
   "execution_count": 49,
   "id": "297f39ac",
   "metadata": {},
   "outputs": [
    {
     "name": "stdout",
     "output_type": "stream",
     "text": [
      "Ridge_train_score: 0.9131803899938702\n",
      "Ridge_test_score: 0.8635346449287722\n"
     ]
    }
   ],
   "source": [
    "# Ridge Regulization\n",
    "from sklearn.linear_model import Ridge\n",
    "ridge=Ridge(alpha=.1)\n",
    "ridge.fit(X_train,y_train)\n",
    "print(\"Ridge_train_score:\",ridge.score(X_train,y_train))\n",
    "print(\"Ridge_test_score:\",ridge.score(X_test,y_test))"
   ]
  },
  {
   "cell_type": "markdown",
   "id": "0b06bc34",
   "metadata": {},
   "source": [
    "**ElasticNet Regression**"
   ]
  },
  {
   "cell_type": "code",
   "execution_count": 51,
   "id": "6664e0bf",
   "metadata": {},
   "outputs": [
    {
     "name": "stdout",
     "output_type": "stream",
     "text": [
      "ENet_train_score: 0.767982711752197\n",
      "ENet_train_score: 0.702736153682512\n"
     ]
    }
   ],
   "source": [
    "#ElasticNet Regularization\n",
    "from sklearn.linear_model import ElasticNet\n",
    "enet=ElasticNet(alpha=.1)\n",
    "enet.fit(X_train,y_train)\n",
    "print(\"ENet_train_score:\",enet.score(X_train,y_train))\n",
    "print(\"ENet_train_score:\",enet.score(X_test,y_test))"
   ]
  },
  {
   "cell_type": "code",
   "execution_count": 41,
   "id": "d148fadc",
   "metadata": {},
   "outputs": [
    {
     "name": "stdout",
     "output_type": "stream",
     "text": [
      "[0.93666815 0.85591681 0.91191459 0.88097018 0.90295622]\n",
      "[0.95382855 0.90520708 0.64905734 0.72119458 0.8926116 ]\n",
      "\n",
      "acc_score_train : 0.8976851885913689\n",
      "acc_score_test : 0.8243798303742065\n"
     ]
    }
   ],
   "source": [
    "#KFold for ridge\n",
    "import numpy as np\n",
    "from sklearn.model_selection import KFold\n",
    "from sklearn.model_selection import cross_val_score\n",
    "\n",
    "fold=KFold(n_splits=5,shuffle=True,random_state=0)\n",
    "score_train=cross_val_score(ridge,X_train,y_train,cv=fold)\n",
    "score_test=cross_val_score(ridge,X_test,y_test,cv=fold)\n",
    "\n",
    "print(score_train)\n",
    "print(score_test)\n",
    "print()\n",
    "acc_score_train=np.mean(abs(score_train))\n",
    "acc_score_test=np.mean(abs(score_test))\n",
    "\n",
    "print(\"acc_score_train :\",acc_score_train)\n",
    "print(\"acc_score_test :\",acc_score_test)"
   ]
  },
  {
   "cell_type": "markdown",
   "id": "4e9b4060",
   "metadata": {},
   "source": [
    "**In Multiple linear Regression we are getting the r squared value 86.39% which is better than the simple linear regression score**\n",
    "\n",
    "**After cross validation in Multiple linear Regression we are getting the r squared value 0.8268 which is also better than the KFold in simple linear regression score**\n",
    "\n",
    "Here by ridge regulization we are getting the 0.8635 r2 score & after regulization for ridge we got 82.43% score."
   ]
  },
  {
   "cell_type": "markdown",
   "id": "32c46051",
   "metadata": {},
   "source": [
    "### GridSearchCV"
   ]
  },
  {
   "cell_type": "code",
   "execution_count": 52,
   "id": "cc59a368",
   "metadata": {},
   "outputs": [],
   "source": [
    "from sklearn.feature_selection import RFE #(recursive feature elimination)"
   ]
  },
  {
   "cell_type": "code",
   "execution_count": 53,
   "id": "1e49b149",
   "metadata": {},
   "outputs": [],
   "source": [
    "rfe=RFE(lrm)"
   ]
  },
  {
   "cell_type": "code",
   "execution_count": 54,
   "id": "2ad4c226",
   "metadata": {},
   "outputs": [],
   "source": [
    "hyper_para={'n_features_to_select': list(range(1, 14))}"
   ]
  },
  {
   "cell_type": "code",
   "execution_count": 55,
   "id": "d4a164ec",
   "metadata": {},
   "outputs": [],
   "source": [
    "from sklearn.model_selection import GridSearchCV"
   ]
  },
  {
   "cell_type": "code",
   "execution_count": 56,
   "id": "5eafa6c4",
   "metadata": {},
   "outputs": [],
   "source": [
    "model=GridSearchCV(estimator=rfe,\n",
    "                   param_grid=hyper_para,\n",
    "                   scoring='r2',\n",
    "                   verbose=1,cv=fold)"
   ]
  },
  {
   "cell_type": "code",
   "execution_count": 57,
   "id": "6beac9fa",
   "metadata": {},
   "outputs": [
    {
     "name": "stdout",
     "output_type": "stream",
     "text": [
      "Fitting 5 folds for each of 13 candidates, totalling 65 fits\n"
     ]
    },
    {
     "data": {
      "text/plain": [
       "GridSearchCV(cv=KFold(n_splits=5, random_state=0, shuffle=True),\n",
       "             estimator=RFE(estimator=LinearRegression()),\n",
       "             param_grid={'n_features_to_select': [1, 2, 3, 4, 5, 6, 7, 8, 9, 10,\n",
       "                                                  11, 12, 13]},\n",
       "             scoring='r2', verbose=1)"
      ]
     },
     "execution_count": 57,
     "metadata": {},
     "output_type": "execute_result"
    }
   ],
   "source": [
    "model.fit(X_train,y_train)"
   ]
  },
  {
   "cell_type": "code",
   "execution_count": 58,
   "id": "6e5f9a07",
   "metadata": {},
   "outputs": [
    {
     "data": {
      "text/plain": [
       "RFE(estimator=LinearRegression(), n_features_to_select=2)"
      ]
     },
     "execution_count": 58,
     "metadata": {},
     "output_type": "execute_result"
    }
   ],
   "source": [
    "model.best_estimator_"
   ]
  },
  {
   "cell_type": "code",
   "execution_count": 59,
   "id": "2e17b24b",
   "metadata": {},
   "outputs": [
    {
     "data": {
      "text/plain": [
       "0.9055380917630531"
      ]
     },
     "execution_count": 59,
     "metadata": {},
     "output_type": "execute_result"
    }
   ],
   "source": [
    "model.best_score_"
   ]
  },
  {
   "cell_type": "code",
   "execution_count": 60,
   "id": "d50ccfa5",
   "metadata": {},
   "outputs": [
    {
     "data": {
      "text/plain": [
       "RFE(estimator=LinearRegression(), n_features_to_select=2)"
      ]
     },
     "execution_count": 60,
     "metadata": {},
     "output_type": "execute_result"
    }
   ],
   "source": [
    "rfe_model=RFE(lrm,n_features_to_select=2)\n",
    "rfe_model.fit(X_train , y_train)"
   ]
  },
  {
   "cell_type": "code",
   "execution_count": 63,
   "id": "f5ee3dee",
   "metadata": {},
   "outputs": [
    {
     "data": {
      "text/plain": [
       "0.9130218535776821"
      ]
     },
     "execution_count": 63,
     "metadata": {},
     "output_type": "execute_result"
    }
   ],
   "source": [
    "rfe_model.score(X_train,y_train)"
   ]
  },
  {
   "cell_type": "code",
   "execution_count": 61,
   "id": "bc9ed5ae",
   "metadata": {},
   "outputs": [
    {
     "data": {
      "text/plain": [
       "0.8658755781123508"
      ]
     },
     "execution_count": 61,
     "metadata": {},
     "output_type": "execute_result"
    }
   ],
   "source": [
    "rfe_model.score(X_test,y_test)"
   ]
  },
  {
   "cell_type": "code",
   "execution_count": 65,
   "id": "a12d5676",
   "metadata": {},
   "outputs": [
    {
     "data": {
      "image/png": "[encoded data removed]",
      "text/plain": [
       "<Figure size 432x288 with 1 Axes>"
      ]
     },
     "metadata": {
      "needs_background": "light"
     },
     "output_type": "display_data"
    }
   ],
   "source": [
    "sns.regplot(y_test,y_test_pred);\n",
    "plt.xlabel('y_test')\n",
    "plt.ylabel(\"y_test_pred\")\n",
    "plt.show();"
   ]
  },
  {
   "cell_type": "markdown",
   "id": "7f076a53",
   "metadata": {},
   "source": [
    "**After observing this plot we can see there is close prediction So we can say our module is good.**"
   ]
  },
  {
   "cell_type": "code",
   "execution_count": 67,
   "id": "b94917db",
   "metadata": {},
   "outputs": [
    {
     "data": {
      "text/html": [
       "<div>\n",
       "<style scoped>\n",
       "    .dataframe tbody tr th:only-of-type {\n",
       "        vertical-align: middle;\n",
       "    }\n",
       "\n",
       "    .dataframe tbody tr th {\n",
       "        vertical-align: top;\n",
       "    }\n",
       "\n",
       "    .dataframe thead th {\n",
       "        text-align: right;\n",
       "    }\n",
       "</style>\n",
       "<table border=\"1\" class=\"dataframe\">\n",
       "  <thead>\n",
       "    <tr style=\"text-align: right;\">\n",
       "      <th></th>\n",
       "      <th>Actual</th>\n",
       "      <th>Predicted</th>\n",
       "    </tr>\n",
       "  </thead>\n",
       "  <tbody>\n",
       "    <tr>\n",
       "      <th>18</th>\n",
       "      <td>11.3</td>\n",
       "      <td>10.699582</td>\n",
       "    </tr>\n",
       "    <tr>\n",
       "      <th>170</th>\n",
       "      <td>8.4</td>\n",
       "      <td>8.677395</td>\n",
       "    </tr>\n",
       "    <tr>\n",
       "      <th>107</th>\n",
       "      <td>12.0</td>\n",
       "      <td>9.567616</td>\n",
       "    </tr>\n",
       "    <tr>\n",
       "      <th>98</th>\n",
       "      <td>25.4</td>\n",
       "      <td>24.854602</td>\n",
       "    </tr>\n",
       "    <tr>\n",
       "      <th>177</th>\n",
       "      <td>16.7</td>\n",
       "      <td>14.644164</td>\n",
       "    </tr>\n",
       "  </tbody>\n",
       "</table>\n",
       "</div>"
      ],
      "text/plain": [
       "     Actual  Predicted\n",
       "18     11.3  10.699582\n",
       "170     8.4   8.677395\n",
       "107    12.0   9.567616\n",
       "98     25.4  24.854602\n",
       "177    16.7  14.644164"
      ]
     },
     "execution_count": 67,
     "metadata": {},
     "output_type": "execute_result"
    }
   ],
   "source": [
    "result=pd.DataFrame({'Actual':y_test,\"Predicted\":y_test_pred})\n",
    "result.head(5)"
   ]
  },
  {
   "cell_type": "code",
   "execution_count": null,
   "id": "f61eacbd",
   "metadata": {},
   "outputs": [],
   "source": []
  }
 ],
 "metadata": {
  "kernelspec": {
   "display_name": "Python 3 (ipykernel)",
   "language": "python",
   "name": "python3"
  },
  "language_info": {
   "codemirror_mode": {
    "name": "ipython",
    "version": 3
   },
   "file_extension": ".py",
   "mimetype": "text/x-python",
   "name": "python",
   "nbconvert_exporter": "python",
   "pygments_lexer": "ipython3",
   "version": "3.9.7"
  }
 },
 "nbformat": 4,
 "nbformat_minor": 5
}
